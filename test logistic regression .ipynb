{
 "cells": [
  {
   "cell_type": "code",
   "execution_count": 10,
   "id": "2aa439b1",
   "metadata": {},
   "outputs": [],
   "source": [
    "from sklearn.datasets import make_classification"
   ]
  },
  {
   "cell_type": "code",
   "execution_count": 11,
   "id": "1259dbc9",
   "metadata": {},
   "outputs": [],
   "source": [
    "from sklearn.datasets import make_classification"
   ]
  },
  {
   "cell_type": "code",
   "execution_count": 12,
   "id": "eedbbdeb",
   "metadata": {},
   "outputs": [],
   "source": [
    "from matplotlib import pyplot as plt\n",
    "from sklearn.linear_model import LogisticRegression\n",
    "from sklearn.model_selection import train_test_split\n",
    "from sklearn.metrics import confusion_matrix"
   ]
  },
  {
   "cell_type": "code",
   "execution_count": 13,
   "id": "23b6e4d2",
   "metadata": {},
   "outputs": [],
   "source": [
    "import pandas as pd"
   ]
  },
  {
   "cell_type": "code",
   "execution_count": 14,
   "id": "599eed62",
   "metadata": {},
   "outputs": [],
   "source": [
    "import pandas as pd"
   ]
  },
  {
   "cell_type": "code",
   "execution_count": 15,
   "id": "12b29898",
   "metadata": {},
   "outputs": [],
   "source": [
    "# Generate and dataset for Logistic Regression\n",
    "x, y = make_classification(\n",
    "    n_samples=100,\n",
    "    n_features=1,\n",
    "    n_classes=2,\n",
    "    n_clusters_per_class=1,\n",
    "    flip_y=0.03,\n",
    "    n_informative=1,\n",
    "    n_redundant=0,\n",
    "    n_repeated=0\n",
    ")"
   ]
  },
  {
   "cell_type": "code",
   "execution_count": 16,
   "id": "423ca56a",
   "metadata": {},
   "outputs": [
    {
     "data": {
      "image/png": "[encoded data removed]",
      "text/plain": [
       "<Figure size 432x288 with 1 Axes>"
      ]
     },
     "metadata": {
      "needs_background": "light"
     },
     "output_type": "display_data"
    }
   ],
   "source": [
    "# Create a scatter plot\n",
    "plt.scatter(x, y, c=y, cmap='rainbow')\n",
    "plt.title('Scatter Plot of Logistic Regression')\n",
    "plt.show()"
   ]
  },
  {
   "cell_type": "code",
   "execution_count": 17,
   "id": "7fa462fb",
   "metadata": {},
   "outputs": [],
   "source": [
    "# Split the dataset into training and test dataset\n",
    "x_train, x_test, y_train, y_test = train_test_split(x, y, random_state=1)"
   ]
  },
  {
   "cell_type": "code",
   "execution_count": 18,
   "id": "9d6e81ff",
   "metadata": {},
   "outputs": [
    {
     "name": "stdout",
     "output_type": "stream",
     "text": [
      "[[-0.21177818]\n",
      " [ 1.63710658]\n",
      " [ 0.76711021]\n",
      " [ 0.03118896]\n",
      " [-1.76767991]\n",
      " [-1.78458902]\n",
      " [ 1.05099924]\n",
      " [ 2.13351406]\n",
      " [-0.80612714]\n",
      " [-0.80942021]\n",
      " [ 2.20364476]\n",
      " [-1.29419411]\n",
      " [ 1.10836628]\n",
      " [ 0.87225718]\n",
      " [-1.41098725]\n",
      " [ 1.55242565]\n",
      " [ 0.68790298]\n",
      " [ 1.32014423]\n",
      " [-2.4645075 ]\n",
      " [ 0.20985411]\n",
      " [ 0.93611719]\n",
      " [ 0.99237464]\n",
      " [ 2.03044862]\n",
      " [-1.79997456]\n",
      " [ 1.5302279 ]\n",
      " [ 1.21489787]\n",
      " [-0.18234852]\n",
      " [-2.04572701]\n",
      " [ 1.44999274]\n",
      " [ 0.3730489 ]\n",
      " [-2.49614411]\n",
      " [-0.2405211 ]\n",
      " [-1.69103474]\n",
      " [ 2.06774102]\n",
      " [ 1.59778565]\n",
      " [ 0.71200887]\n",
      " [-1.71980827]\n",
      " [ 1.42152261]\n",
      " [-2.03581843]\n",
      " [ 0.83382102]\n",
      " [-1.98736728]\n",
      " [-0.89028102]\n",
      " [ 1.78208406]\n",
      " [-1.08623142]\n",
      " [ 0.76761344]\n",
      " [-2.02817876]\n",
      " [ 1.35662688]\n",
      " [ 1.19639089]\n",
      " [-1.1922685 ]\n",
      " [-2.15599643]\n",
      " [ 1.66481616]\n",
      " [-1.73333921]\n",
      " [-1.04239443]\n",
      " [ 0.67709052]\n",
      " [-1.54103882]\n",
      " [ 0.50521619]\n",
      " [-1.16658137]\n",
      " [-1.8461981 ]\n",
      " [ 2.07009705]\n",
      " [-1.45662186]\n",
      " [ 0.34801745]\n",
      " [ 1.08004333]\n",
      " [-0.58138346]\n",
      " [ 0.91562192]\n",
      " [-0.75926153]\n",
      " [-1.71660377]\n",
      " [-0.81648398]\n",
      " [-0.03893509]\n",
      " [-0.7634219 ]\n",
      " [-0.59325012]\n",
      " [ 0.20935879]\n",
      " [-0.32731303]\n",
      " [-0.99745807]\n",
      " [-1.29179718]\n",
      " [ 1.56832462]\n",
      " [ 1.21521618]\n",
      " [-0.39963679]\n",
      " [-1.25620194]\n",
      " [-0.59879034]\n",
      " [-0.35505809]\n",
      " [ 0.51472542]\n",
      " [ 0.73082462]\n",
      " [-0.93030638]\n",
      " [-1.62884027]\n",
      " [ 1.78709809]\n",
      " [-1.99987472]\n",
      " [ 1.91203051]\n",
      " [ 0.81605166]\n",
      " [ 0.96046183]\n",
      " [-0.74929289]\n",
      " [-0.61799264]\n",
      " [ 0.65169229]\n",
      " [-1.73825679]\n",
      " [-1.36870334]\n",
      " [-3.22017622]\n",
      " [ 0.89310309]\n",
      " [-0.36367521]\n",
      " [ 1.59567008]\n",
      " [-0.98009524]\n",
      " [-1.10842001]]\n"
     ]
    }
   ],
   "source": [
    "print(x)"
   ]
  },
  {
   "cell_type": "code",
   "execution_count": 19,
   "id": "ca934fdc",
   "metadata": {},
   "outputs": [
    {
     "data": {
      "text/plain": [
       "LogisticRegression()"
      ]
     },
     "execution_count": 19,
     "metadata": {},
     "output_type": "execute_result"
    }
   ],
   "source": [
    "# Create a Logistic Regression Object, perform Logistic Regression\n",
    "log_reg = LogisticRegression()\n",
    "log_reg.fit(x_train, y_train)"
   ]
  },
  {
   "cell_type": "code",
   "execution_count": 20,
   "id": "28298991",
   "metadata": {},
   "outputs": [
    {
     "name": "stdout",
     "output_type": "stream",
     "text": [
      "[[ 0.71200887]\n",
      " [-3.22017622]\n",
      " [-2.04572701]\n",
      " [ 1.35662688]\n",
      " [-2.03581843]\n",
      " [-0.03893509]\n",
      " [-1.10842001]\n",
      " [-1.54103882]\n",
      " [ 0.89310309]\n",
      " [ 0.96046183]\n",
      " [-1.98736728]\n",
      " [-1.1922685 ]\n",
      " [-1.45662186]\n",
      " [-1.79997456]\n",
      " [ 1.59778565]\n",
      " [ 1.91203051]\n",
      " [ 0.67709052]\n",
      " [-1.25620194]\n",
      " [ 1.55242565]\n",
      " [-1.62884027]\n",
      " [-0.89028102]\n",
      " [-2.02817876]\n",
      " [ 0.65169229]\n",
      " [-0.18234852]\n",
      " [-0.98009524]\n",
      " [-1.08623142]\n",
      " [ 0.50521619]\n",
      " [ 1.5302279 ]\n",
      " [-1.76767991]\n",
      " [ 2.07009705]\n",
      " [-2.15599643]\n",
      " [ 0.99237464]\n",
      " [ 0.81605166]\n",
      " [ 0.03118896]\n",
      " [ 1.56832462]\n",
      " [-2.49614411]\n",
      " [-0.81648398]\n",
      " [ 0.20935879]\n",
      " [ 1.78208406]\n",
      " [ 1.19639089]\n",
      " [-0.74929289]\n",
      " [-0.80612714]\n",
      " [ 0.34801745]\n",
      " [-0.21177818]\n",
      " [-0.61799264]\n",
      " [-1.8461981 ]\n",
      " [ 2.03044862]\n",
      " [ 1.08004333]\n",
      " [ 0.91562192]\n",
      " [ 2.13351406]\n",
      " [-0.36367521]\n",
      " [ 0.87225718]\n",
      " [-0.7634219 ]\n",
      " [-1.99987472]\n",
      " [-1.41098725]\n",
      " [ 0.3730489 ]\n",
      " [ 1.44999274]\n",
      " [-1.29419411]\n",
      " [-2.4645075 ]\n",
      " [ 0.93611719]\n",
      " [ 1.66481616]\n",
      " [ 1.21489787]\n",
      " [ 1.05099924]\n",
      " [-0.32731303]\n",
      " [-0.39963679]\n",
      " [ 1.63710658]\n",
      " [ 0.68790298]\n",
      " [-0.75926153]\n",
      " [-0.35505809]\n",
      " [-1.78458902]\n",
      " [ 1.21521618]\n",
      " [-0.80942021]\n",
      " [-0.99745807]\n",
      " [ 1.10836628]\n",
      " [ 1.42152261]]\n"
     ]
    }
   ],
   "source": [
    "print(x_train)"
   ]
  },
  {
   "cell_type": "code",
   "execution_count": 21,
   "id": "9ec68ff5",
   "metadata": {},
   "outputs": [
    {
     "data": {
      "text/plain": [
       "(75, 1)"
      ]
     },
     "execution_count": 21,
     "metadata": {},
     "output_type": "execute_result"
    }
   ],
   "source": [
    "x_train.shape"
   ]
  },
  {
   "cell_type": "code",
   "execution_count": 22,
   "id": "fac4fea9",
   "metadata": {},
   "outputs": [
    {
     "data": {
      "text/plain": [
       "LogisticRegression()"
      ]
     },
     "execution_count": 22,
     "metadata": {},
     "output_type": "execute_result"
    }
   ],
   "source": [
    "log_reg = LogisticRegression()\n",
    "log_reg.fit(x_train, y_train)"
   ]
  },
  {
   "cell_type": "code",
   "execution_count": 23,
   "id": "e41e89a5",
   "metadata": {},
   "outputs": [
    {
     "ename": "NameError",
     "evalue": "name 'lr' is not defined",
     "output_type": "error",
     "traceback": [
      "\u001b[0;31m---------------------------------------------------------------------------\u001b[0m",
      "\u001b[0;31mNameError\u001b[0m                                 Traceback (most recent call last)",
      "\u001b[0;32m/tmp/ipykernel_3543/2954075614.py\u001b[0m in \u001b[0;36m<module>\u001b[0;34m\u001b[0m\n\u001b[1;32m      1\u001b[0m \u001b[0;31m# Show to Coeficient and Intercept\u001b[0m\u001b[0;34m\u001b[0m\u001b[0;34m\u001b[0m\u001b[0;34m\u001b[0m\u001b[0m\n\u001b[0;32m----> 2\u001b[0;31m \u001b[0mprint\u001b[0m\u001b[0;34m(\u001b[0m\u001b[0mlr\u001b[0m\u001b[0;34m.\u001b[0m\u001b[0mcoef_\u001b[0m\u001b[0;34m)\u001b[0m\u001b[0;34m\u001b[0m\u001b[0;34m\u001b[0m\u001b[0m\n\u001b[0m\u001b[1;32m      3\u001b[0m \u001b[0mprint\u001b[0m\u001b[0;34m(\u001b[0m\u001b[0mlr\u001b[0m\u001b[0;34m.\u001b[0m\u001b[0mintercept_\u001b[0m\u001b[0;34m)\u001b[0m\u001b[0;34m\u001b[0m\u001b[0;34m\u001b[0m\u001b[0m\n",
      "\u001b[0;31mNameError\u001b[0m: name 'lr' is not defined"
     ]
    }
   ],
   "source": [
    "# Show to Coeficient and Intercept\n",
    "print(lr.coef_)\n",
    "print(lr.intercept_)"
   ]
  },
  {
   "cell_type": "code",
   "execution_count": 24,
   "id": "f96d6252",
   "metadata": {},
   "outputs": [
    {
     "name": "stdout",
     "output_type": "stream",
     "text": [
      "[[2.65801159]]\n",
      "[0.09150667]\n"
     ]
    }
   ],
   "source": [
    "# Show to Coeficient and Intercept\n",
    "print(log_reg.coef_)\n",
    "print(log_reg.intercept_)"
   ]
  },
  {
   "cell_type": "code",
   "execution_count": 25,
   "id": "686fd726",
   "metadata": {},
   "outputs": [],
   "source": [
    "y_pred = log_reg.predict(x_test)"
   ]
  },
  {
   "cell_type": "code",
   "execution_count": 26,
   "id": "4561fa4b",
   "metadata": {},
   "outputs": [
    {
     "name": "stdout",
     "output_type": "stream",
     "text": [
      "[1 1 1 1 0 1 0 0 0 0 0 1 0 0 0 0 0 1 0 1 1 0 1 0 1]\n"
     ]
    }
   ],
   "source": [
    "print(y_pred)"
   ]
  },
  {
   "cell_type": "code",
   "execution_count": 27,
   "id": "7ef7028f",
   "metadata": {},
   "outputs": [
    {
     "data": {
      "text/plain": [
       "array([[13,  0],\n",
       "       [ 1, 11]])"
      ]
     },
     "execution_count": 27,
     "metadata": {},
     "output_type": "execute_result"
    }
   ],
   "source": [
    "# Show the Confusion Matrix\n",
    "confusion_matrix(y_test, y_pred)"
   ]
  },
  {
   "cell_type": "code",
   "execution_count": null,
   "id": "c2a726d6",
   "metadata": {},
   "outputs": [],
   "source": []
  }
 ],
 "metadata": {
  "kernelspec": {
   "display_name": "Python 3",
   "language": "python",
   "name": "python3"
  },
  "language_info": {
   "codemirror_mode": {
    "name": "ipython",
    "version": 3
   },
   "file_extension": ".py",
   "mimetype": "text/x-python",
   "name": "python",
   "nbconvert_exporter": "python",
   "pygments_lexer": "ipython3",
   "version": "3.8.10"
  }
 },
 "nbformat": 4,
 "nbformat_minor": 5
}
